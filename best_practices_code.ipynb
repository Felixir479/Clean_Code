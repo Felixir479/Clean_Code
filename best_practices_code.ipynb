{
 "cells": [
  {
   "cell_type": "markdown",
   "id": "c85299c6",
   "metadata": {},
   "source": [
    "# Mejores Prácticas de Código en Python"
   ]
  },
  {
   "cell_type": "markdown",
   "id": "da2817e0",
   "metadata": {},
   "source": [
    "## 1. Estandarización de Librerías y Dependencias\n",
    "\n",
    "Uso de entornos virtuales:\n",
    "Utiliza entornos virtuales con venv o virtualenv para aislar las dependencias del proyecto."
   ]
  },
  {
   "cell_type": "code",
   "execution_count": null,
   "id": "27d73b35",
   "metadata": {},
   "outputs": [],
   "source": [
    "# Uso de entornos virtuales\n",
    "# Crea un entorno virtual en tu proyecto:\n",
    "!python -m venv env\n",
    "!source env/bin/activate  # Para activar el entorno virtual en Linux/Mac\n",
    "# En Windows, usa `env\\Scripts\\activate`\n",
    "    "
   ]
  },
  {
   "cell_type": "markdown",
   "id": "cfc71287",
   "metadata": {},
   "source": [
    "Usa un archivo requirements.txt o pyproject.toml para gestionar las dependencias de manera centralizada."
   ]
  },
  {
   "cell_type": "code",
   "execution_count": null,
   "id": "15590851",
   "metadata": {},
   "outputs": [],
   "source": [
    "# Guardar las dependencias en un archivo `requirements.txt`\n",
    "!pip freeze > requirements.txt"
   ]
  },
  {
   "cell_type": "markdown",
   "id": "2a4ecc46",
   "metadata": {},
   "source": [
    "Versionado de librerías:\n",
    "Especifica las versiones mínimas de las librerías que el proyecto necesita para asegurar que todos los colaboradores trabajen con la misma base."
   ]
  },
  {
   "cell_type": "code",
   "execution_count": null,
   "id": "c25b5bc3",
   "metadata": {},
   "outputs": [],
   "source": [
    "pandas>=1.2.0\n",
    "numpy>=1.19.0"
   ]
  },
  {
   "cell_type": "markdown",
   "id": "cd031b71",
   "metadata": {},
   "source": [
    "## 2. Nomenclaturas y Estilo\n",
    "\n",
    "Estándares de Código:\n",
    "Sigue PEP 8 como la guía de estilo oficial de Python:\n",
    "Usa 4 espacios para la indentación (no tabuladores).\n",
    "Las líneas no deben superar los 79 caracteres.\n",
    "Usa nombres descriptivos para funciones, variables y clases.\n",
    "Las clases se nombran en CamelCase (por ejemplo, DataProcessor), mientras que las funciones y variables usan snake_case (process_data())."
   ]
  },
  {
   "cell_type": "code",
   "execution_count": null,
   "id": "ed0b51c0",
   "metadata": {},
   "outputs": [],
   "source": [
    "# Ejemplo de estilo siguiendo PEP 8\n",
    "class DataProcessor:\n",
    "    def __init__(self, data):\n",
    "        self.data = data\n",
    "\n",
    "    def process_data(self):\n",
    "        # Proceso de los datos\n",
    "        pass\n"
   ]
  },
  {
   "cell_type": "markdown",
   "id": "7aea39da",
   "metadata": {},
   "source": [
    "Idioma del Código:\n",
    "Desarrolla el código en inglés para asegurar colaboración internacional y una mayor adopción."
   ]
  },
  {
   "cell_type": "code",
   "execution_count": null,
   "id": "947c888c",
   "metadata": {},
   "outputs": [],
   "source": [
    "def calculate_risk_score(data):\n",
    "    pass"
   ]
  },
  {
   "cell_type": "markdown",
   "id": "92bbe063",
   "metadata": {},
   "source": [
    "## 3. Legibilidad y Sostenibilidad del Código\n",
    "\n",
    "Comentarios y Docstrings:\n",
    "Documenta las funciones y clases con docstrings para que sean fáciles de entender por otros."
   ]
  },
  {
   "cell_type": "code",
   "execution_count": null,
   "id": "ac631e06",
   "metadata": {},
   "outputs": [],
   "source": [
    "# Uso de Docstrings y Comentarios\n",
    "def fetch_data(url: str) -> dict:\n",
    "    \"\"\"\n",
    "    Fetches data from a given URL.\n",
    "\n",
    "    Args:\n",
    "        url (str): URL to fetch data from.\n",
    "\n",
    "    Returns:\n",
    "        dict: The fetched data in dictionary format.\n",
    "    \"\"\"\n",
    "    pass\n"
   ]
  },
  {
   "cell_type": "markdown",
   "id": "d01c84e6",
   "metadata": {},
   "source": [
    "Simplificación:\n",
    "Evita hacer el código innecesariamente complejo. A veces, menos es más."
   ]
  },
  {
   "cell_type": "code",
   "execution_count": null,
   "id": "4a5597f0",
   "metadata": {},
   "outputs": [],
   "source": [
    "# Mal ejemplo:\n",
    "if some_var == True:\n",
    "    return True\n",
    "else:\n",
    "    return False\n",
    "\n",
    "# Mejor opción:\n",
    "return bool(some_var)"
   ]
  },
  {
   "cell_type": "markdown",
   "id": "181402c3",
   "metadata": {},
   "source": [
    "## 4. Desarrollo Colaborativo\n",
    "\n",
    "Control de versiones con Git:\n",
    "Utiliza Git para gestionar cambios de código. Es importante seguir buenas prácticas de Git, como ramas para características (feature-branch) y pull requests para revisión.\n",
    "Comentarios de Código y Revisiones:\n",
    "Mantén los comentarios de código breves pero claros.\n",
    "Utiliza revisiones de código (code reviews) para garantizar la calidad."
   ]
  },
  {
   "cell_type": "code",
   "execution_count": null,
   "id": "f697ab2c",
   "metadata": {},
   "outputs": [],
   "source": [
    "# Usar Git y crear ramas para cada característica.\n",
    "!git checkout -b new-feature\n",
    "\n",
    "# Crear un Pull Request después de desarrollar\n",
    "!git add .\n",
    "!git commit -m \"Añadir nueva característica\"\n",
    "!git push origin new-feature\n"
   ]
  },
  {
   "cell_type": "markdown",
   "id": "8fc62877",
   "metadata": {},
   "source": [
    "## 5. Código Testeable\n",
    "\n",
    "Pruebas Unitarias:\n",
    "Asegura que el código sea fácil de probar con pruebas unitarias. Utiliza unittest o pytest para pruebas."
   ]
  },
  {
   "cell_type": "code",
   "execution_count": null,
   "id": "78f8736b",
   "metadata": {},
   "outputs": [],
   "source": [
    "import unittest\n",
    "\n",
    "class TestMathOperations(unittest.TestCase):\n",
    "    def test_addition(self):\n",
    "        self.assertEqual(1 + 1, 2)\n",
    "\n",
    "if __name__ == '__main__':\n",
    "    unittest.main()\n"
   ]
  },
  {
   "cell_type": "markdown",
   "id": "82326549",
   "metadata": {},
   "source": [
    "Cobertura de Código:\n",
    "Asegura una alta cobertura de código con pruebas. Usa herramientas como pytest-cov para medir la cobertura."
   ]
  },
  {
   "cell_type": "markdown",
   "id": "f080e42b",
   "metadata": {},
   "source": [
    "## 6. Programación Orientada a Objetos\n",
    "Clases y Subclases:\n",
    "Define clases con una clara separación de responsabilidades y encapsula atributos y comportamientos en ellas."
   ]
  },
  {
   "cell_type": "code",
   "execution_count": null,
   "id": "40d73fe0",
   "metadata": {},
   "outputs": [],
   "source": [
    "# Ejemplo de clase y subclase en POO\n",
    "class BankAccount:\n",
    "    def __init__(self, owner, balance=0):\n",
    "        self.owner = owner\n",
    "        self.balance = balance\n",
    "\n",
    "    def deposit(self, amount):\n",
    "        self.balance += amount\n",
    "\n",
    "    def withdraw(self, amount):\n",
    "        if amount > self.balance:\n",
    "            raise ValueError(\"Insufficient funds\")\n",
    "        self.balance -= amount\n"
   ]
  },
  {
   "cell_type": "markdown",
   "id": "5938cbc4",
   "metadata": {},
   "source": [
    "Métodos y Herencia:\n",
    "Utiliza herencia para especializar comportamientos."
   ]
  },
  {
   "cell_type": "code",
   "execution_count": null,
   "id": "4fd71434",
   "metadata": {},
   "outputs": [],
   "source": [
    "class SavingsAccount(BankAccount):\n",
    "    def __init__(self, owner, balance=0, interest_rate=0.02):\n",
    "        super().__init__(owner, balance)\n",
    "        self.interest_rate = interest_rate\n",
    "\n",
    "    def apply_interest(self):\n",
    "        self.balance += self.balance * self.interest_rate"
   ]
  },
  {
   "cell_type": "markdown",
   "id": "02bfa716",
   "metadata": {},
   "source": [
    "## Encapsulamiento\n",
    "\n",
    "El encapsulamiento en Python se refiere a la restricción del acceso a los atributos o métodos de una clase. Aunque Python no tiene un verdadero encapsulamiento privado como en otros lenguajes, usa convenciones de nombres para simularlo.\n",
    "\n",
    "Convención de nombres:\n",
    "Atributos Públicos: Sin guiones bajos (nombre_atributo).\n",
    "Atributos Protegidos: Un guion bajo (_nombre_atributo).\n",
    "Atributos Privados: Dos guiones bajos (__nombre_atributo)."
   ]
  },
  {
   "cell_type": "code",
   "execution_count": null,
   "id": "9ed33e2b",
   "metadata": {},
   "outputs": [],
   "source": [
    "class Empleado:\n",
    "    def __init__(self, nombre, salario):\n",
    "        self.nombre = nombre        # Público\n",
    "        self._salario = salario     # Protegido\n",
    "\n",
    "    def __mostrar_salario(self):    # Método privado\n",
    "        print(f\"El salario de {self.nombre} es {self._salario}\")\n",
    "    \n",
    "    def mostrar(self):\n",
    "        self.__mostrar_salario()  # Acceso interno permitido\n",
    "\n",
    "# Uso\n",
    "emp = Empleado(\"Ana\", 50000)\n",
    "emp.mostrar()  # Llama a un método privado indirectamente"
   ]
  },
  {
   "cell_type": "markdown",
   "id": "879ccca1",
   "metadata": {},
   "source": [
    "##  Polimorfismo\n",
    "El polimorfismo permite que diferentes clases implementen el mismo método con diferentes comportamientos. Es útil cuando diferentes objetos necesitan compartir una interfaz común."
   ]
  },
  {
   "cell_type": "code",
   "execution_count": null,
   "id": "10cf72c3",
   "metadata": {},
   "outputs": [],
   "source": [
    "class Perro:\n",
    "    def sonido(self):\n",
    "        return \"Ladra\"\n",
    "    \n",
    "class Gato:\n",
    "    def sonido(self):\n",
    "        return \"Maúlla\"\n",
    "\n",
    "# Polimorfismo en acción\n",
    "def hacer_sonido(animal):\n",
    "    print(animal.sonido())\n",
    "\n",
    "# Uso\n",
    "hacer_sonido(Perro())  # \"Ladra\"\n",
    "hacer_sonido(Gato())   # \"Maúlla\""
   ]
  },
  {
   "cell_type": "markdown",
   "id": "88495c15",
   "metadata": {},
   "source": [
    "##  Listas Genericas\n",
    "Python es dinámicamente tipado, pero puedes usar tipos genéricos (listas genéricas, por ejemplo) con las anotaciones de tipo proporcionadas por typing."
   ]
  },
  {
   "cell_type": "code",
   "execution_count": null,
   "id": "5d50be8e",
   "metadata": {},
   "outputs": [],
   "source": [
    "from typing import List\n",
    "\n",
    "def sumar_elementos(numeros: List[int]) -> int:\n",
    "    return sum(numeros)\n",
    "\n",
    "# Uso\n",
    "lista_numeros = [1, 2, 3, 4, 5]\n",
    "print(sumar_elementos(lista_numeros))  # 15"
   ]
  },
  {
   "cell_type": "markdown",
   "id": "632f7c39",
   "metadata": {},
   "source": [
    "## Decoradores\n",
    "Un decorador es una función que toma otra función y extiende su comportamiento sin modificarla directamente. Los decoradores son útiles para la reutilización de código."
   ]
  },
  {
   "cell_type": "code",
   "execution_count": null,
   "id": "17975b0b",
   "metadata": {},
   "outputs": [],
   "source": [
    "def decorador(func):\n",
    "    def envoltura():\n",
    "        print(\"Antes de la función\")\n",
    "        func()\n",
    "        print(\"Después de la función\")\n",
    "    return envoltura\n",
    "\n",
    "@decorador\n",
    "def saludo():\n",
    "    print(\"¡Hola Mundo!\")\n",
    "\n",
    "# Uso\n",
    "saludo()"
   ]
  },
  {
   "cell_type": "markdown",
   "id": "9937d720",
   "metadata": {},
   "source": [
    "## Funciones Lambda\n",
    "Las funciones lambda son pequeñas funciones anónimas que pueden tener cualquier número de argumentos, pero solo una expresión.\n",
    "\n",
    "Ejemplo:"
   ]
  },
  {
   "cell_type": "code",
   "execution_count": null,
   "id": "17b48cc9",
   "metadata": {},
   "outputs": [],
   "source": [
    "# Definición de una función lambda para sumar dos números\n",
    "sumar = lambda x, y: x + y\n",
    "\n",
    "# Uso\n",
    "resultado = sumar(5, 3)\n",
    "print(resultado)  # 8"
   ]
  },
  {
   "cell_type": "markdown",
   "id": "b9cd51c5",
   "metadata": {},
   "source": [
    "## 7. Programación Funcional\n",
    "Uso de Funciones de Primera Clase:\n",
    "Utiliza funciones de primera clase (como map, filter, reduce) para simplificar operaciones."
   ]
  },
  {
   "cell_type": "code",
   "execution_count": null,
   "id": "5785b9ff",
   "metadata": {},
   "outputs": [],
   "source": [
    "# Ejemplo de función pura y uso de funciones de primera clase\n",
    "numbers = [1, 2, 3, 4, 5]\n",
    "squares = list(map(lambda x: x**2, numbers))  # [1, 4, 9, 16, 25]\n"
   ]
  },
  {
   "cell_type": "markdown",
   "id": "aab6bdc7",
   "metadata": {},
   "source": [
    "Funciones Puras:\n",
    "Mantén las funciones lo más puras posible: sin efectos secundarios y con salidas determinísticas para entradas específicas.\n",
    "Inmutabilidad:\n",
    "Fomenta el uso de datos inmutables. Usa tuplas en lugar de listas cuando el contenido no deba cambiar."
   ]
  },
  {
   "cell_type": "code",
   "execution_count": null,
   "id": "62c61448",
   "metadata": {},
   "outputs": [],
   "source": [
    "point = (0, 0)  # Inmutable"
   ]
  },
  {
   "cell_type": "markdown",
   "id": "198e5586",
   "metadata": {},
   "source": [
    "## 8. Performance y Optimización\n",
    "\n",
    "Evita Bucles Ineficientes:\n",
    "Minimiza el uso de bucles anidados innecesarios. Usa comprensiones de listas o operaciones vectorizadas con librerías como NumPy."
   ]
  },
  {
   "cell_type": "code",
   "execution_count": null,
   "id": "dca7e4b0",
   "metadata": {},
   "outputs": [],
   "source": [
    "# Usar NumPy para operaciones vectorizadas y eficientes\n",
    "import numpy as np\n",
    "array = np.array([1, 2, 3, 4])\n",
    "squares = array ** 2  # Operaciones vectorizadas\n"
   ]
  },
  {
   "cell_type": "markdown",
   "id": "c61f9fed",
   "metadata": {},
   "source": [
    "Manejo Eficiente de Memoria:\n",
    "Usa generadores en lugar de listas cuando estés trabajando con grandes volúmenes de datos para evitar el consumo innecesario de memoria."
   ]
  },
  {
   "cell_type": "code",
   "execution_count": null,
   "id": "fe065af0",
   "metadata": {},
   "outputs": [],
   "source": [
    "def large_data_generator():\n",
    "    for i in range(1000000):\n",
    "        yield i"
   ]
  },
  {
   "cell_type": "markdown",
   "id": "d793e655",
   "metadata": {},
   "source": [
    "Uso de Librerías Compiladas:\n",
    "Utiliza librerías optimizadas y compiladas como NumPy, Pandas, o Cython para mejorar la velocidad."
   ]
  },
  {
   "cell_type": "code",
   "execution_count": null,
   "id": "8c595edb",
   "metadata": {},
   "outputs": [],
   "source": [
    "# Usando NumPy para operaciones rápidas en arrays\n",
    "array = np.array([1, 2, 3, 4])\n",
    "result = np.sqrt(array)"
   ]
  },
  {
   "cell_type": "markdown",
   "id": "e7c4c7c0",
   "metadata": {},
   "source": [
    "## 9. Otras buenas practicas\n",
    "Manejo de Excepciones:\n",
    "Usa excepciones para manejar errores, en lugar de confiar en códigos de retorno o silencios."
   ]
  },
  {
   "cell_type": "code",
   "execution_count": null,
   "id": "18cc7dea",
   "metadata": {},
   "outputs": [],
   "source": [
    "def divide(a, b):\n",
    "    try:\n",
    "        return a / b\n",
    "    except ZeroDivisionError:\n",
    "        return 'Cannot divide by zero'"
   ]
  }
 ],
 "metadata": {
  "kernelspec": {
   "display_name": "Python 3 (ipykernel)",
   "language": "python",
   "name": "python3"
  },
  "language_info": {
   "codemirror_mode": {
    "name": "ipython",
    "version": 3
   },
   "file_extension": ".py",
   "mimetype": "text/x-python",
   "name": "python",
   "nbconvert_exporter": "python",
   "pygments_lexer": "ipython3",
   "version": "3.9.13"
  }
 },
 "nbformat": 4,
 "nbformat_minor": 5
}
