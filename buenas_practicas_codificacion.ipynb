{
 "cells": [
  {
   "cell_type": "markdown",
   "id": "70105f78",
   "metadata": {},
   "source": [
    "# Buenas Prácticas de Codificación\n",
    "En este documento se presentan las mejores prácticas de codificación divididas en varios módulos.\n"
   ]
  },
  {
   "cell_type": "markdown",
   "id": "07b40b6a",
   "metadata": {},
   "source": [
    "## Módulo 1: Clean Code\n"
   ]
  },
  {
   "cell_type": "markdown",
   "id": "517ddd51",
   "metadata": {},
   "source": [
    "### Nomenclatura\n",
    "- Estandarización de librerías, nomenclaturas, desarrollo en inglés."
   ]
  },
  {
   "cell_type": "markdown",
   "id": "7a9868d7",
   "metadata": {},
   "source": [
    "### Desarrollo o Codificación\n",
    "- **Legibilidad**: Código limpio y fácil de leer.\n",
    "- **Sostenibilidad**: Que pueda mantenerse en el tiempo.\n",
    "- **Colaborativo**: Fácil de entender por otros desarrolladores.\n",
    "- **Testeable**: Asegurarse que sea fácil de probar.\n",
    "- **Eficiente**: Optimizar recursos y tiempo de ejecución."
   ]
  },
  {
   "cell_type": "markdown",
   "id": "869c4d32",
   "metadata": {},
   "source": [
    "### Mejores Prácticas del Lenguaje\n",
    "- Mejores prácticas para garantizar la calidad del código."
   ]
  },
  {
   "cell_type": "markdown",
   "id": "f8804a3e",
   "metadata": {},
   "source": [
    "### Performance de Ejecución\n",
    "- Consideraciones sobre la eficiencia del código."
   ]
  },
  {
   "cell_type": "markdown",
   "id": "8a266d70",
   "metadata": {},
   "source": [
    "## Módulo 2: Programación Orientada a Objetos (POO)\n"
   ]
  },
  {
   "cell_type": "markdown",
   "id": "adece38e",
   "metadata": {},
   "source": [
    "### Nomenclatura\n",
    "- Clases, métodos, definición de objetos, variables globales y locales.\n",
    "- Estandarización para clases y subclases, no utilizar palabras reservadas."
   ]
  },
  {
   "cell_type": "markdown",
   "id": "da757a17",
   "metadata": {},
   "source": [
    "### Desarrollo o Codificación\n",
    "- **Legibilidad**\n",
    "- **Sostenibilidad**\n",
    "- **Colaborativo**\n",
    "- **Testeable**\n",
    "- **Eficiente**"
   ]
  },
  {
   "cell_type": "markdown",
   "id": "ae7eccd4",
   "metadata": {},
   "source": [
    "### Mejores Prácticas del Lenguaje\n",
    "- Mejores prácticas específicas para POO."
   ]
  },
  {
   "cell_type": "markdown",
   "id": "0be7bf86",
   "metadata": {},
   "source": [
    "### Performance de Ejecución\n",
    "- Consideraciones sobre la eficiencia de POO."
   ]
  },
  {
   "cell_type": "markdown",
   "id": "a2b67364",
   "metadata": {},
   "source": [
    "## Módulo 3: Programación Funcional\n"
   ]
  },
  {
   "cell_type": "markdown",
   "id": "620a9509",
   "metadata": {},
   "source": [
    "### Nomenclatura\n",
    "- Funciones, decoradores, funciones puras, evitar palabras reservadas."
   ]
  },
  {
   "cell_type": "markdown",
   "id": "862a5fd7",
   "metadata": {},
   "source": [
    "### Desarrollo o Codificación\n",
    "- **Legibilidad**\n",
    "- **Sostenibilidad**\n",
    "- **Colaborativo**\n",
    "- **Testeable**\n",
    "- **Eficiente**"
   ]
  },
  {
   "cell_type": "markdown",
   "id": "7a8a03df",
   "metadata": {},
   "source": [
    "### Mejores Prácticas del Lenguaje\n",
    "- Mejores prácticas específicas para la programación funcional."
   ]
  },
  {
   "cell_type": "markdown",
   "id": "dbd5bcdf",
   "metadata": {},
   "source": [
    "### Performance de Ejecución\n",
    "- Consideraciones sobre la eficiencia en la programación funcional."
   ]
  },
  {
   "cell_type": "markdown",
   "id": "60ca108f",
   "metadata": {},
   "source": [
    "## Módulo 4: Python\n"
   ]
  },
  {
   "cell_type": "markdown",
   "id": "d2da2338",
   "metadata": {},
   "source": [
    "### Nomenclatura\n",
    "- Convenciones de nombres para funciones, variables, y objetos."
   ]
  },
  {
   "cell_type": "markdown",
   "id": "5c9e1aa1",
   "metadata": {},
   "source": [
    "### Desarrollo o Codificación\n",
    "- **Legibilidad**\n",
    "- **Sostenibilidad**\n",
    "- **Colaborativo**\n",
    "- **Testeable**\n",
    "- **Eficiente**"
   ]
  },
  {
   "cell_type": "markdown",
   "id": "92cca6c7",
   "metadata": {},
   "source": [
    "### Mejores Prácticas del Lenguaje\n",
    "- Mejores prácticas específicas para el lenguaje Python."
   ]
  },
  {
   "cell_type": "markdown",
   "id": "ddb481ba",
   "metadata": {},
   "source": [
    "### Performance de Ejecución\n",
    "- Consideraciones sobre la eficiencia del código Python."
   ]
  }
 ],
 "metadata": {
  "language_info": {
   "name": "python"
  }
 },
 "nbformat": 4,
 "nbformat_minor": 5
}
